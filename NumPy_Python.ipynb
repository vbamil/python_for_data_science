{
  "cells": [
    {
      "cell_type": "code",
      "execution_count": 39,
      "metadata": {
        "id": "zvyuHHYrGDw4"
      },
      "outputs": [],
      "source": [
        "# Import the numpy library\n",
        "# np is simply an alias, you may use any other alias, though np is quite standard\n",
        "import numpy as np"
      ]
    },
    {
      "cell_type": "code",
      "execution_count": 40,
      "metadata": {
        "colab": {
          "base_uri": "https://localhost:8080/"
        },
        "id": "M_hqUw4kGDw5",
        "outputId": "30f76285-8d54-4466-f693-03678001a7f7"
      },
      "outputs": [
        {
          "output_type": "stream",
          "name": "stdout",
          "text": [
            "[2 4 5 6 7 9]\n",
            "<class 'numpy.ndarray'>\n"
          ]
        }
      ],
      "source": [
        "# Creating a 1-D array using a list\n",
        "# np.array() takes in a list or a tuple as argument, and converts into an array\n",
        "array_1d = np.array([2, 4, 5, 6, 7, 9])\n",
        "print(array_1d)\n",
        "print(type(array_1d))"
      ]
    },
    {
      "cell_type": "code",
      "execution_count": 41,
      "metadata": {
        "colab": {
          "base_uri": "https://localhost:8080/"
        },
        "id": "42biVybXGDw6",
        "outputId": "8f9f0bd0-fdbf-4f54-f849-58d504317baf"
      },
      "outputs": [
        {
          "output_type": "stream",
          "name": "stdout",
          "text": [
            "[[2 3 4]\n",
            " [5 8 7]]\n"
          ]
        }
      ],
      "source": [
        "# Creating a 2-D array using two lists\n",
        "array_2d = np.array([[2, 3, 4], [5, 8, 7]])\n",
        "print(array_2d)"
      ]
    },
    {
      "cell_type": "code",
      "execution_count": 42,
      "metadata": {
        "colab": {
          "base_uri": "https://localhost:8080/"
        },
        "id": "ay4MSdAIGDw8",
        "outputId": "49a3a22a-21e5-43c0-d1cd-b14107224de3"
      },
      "outputs": [
        {
          "output_type": "stream",
          "name": "stdout",
          "text": [
            "[12, 30, 7, 35]\n"
          ]
        }
      ],
      "source": [
        "list_1 = [3, 6, 7, 5]\n",
        "list_2 = [4, 5, 1, 7]\n",
        "\n",
        "# the list way to do it: map a function to the two lists\n",
        "product_list = list(map(lambda x, y: x*y, list_1, list_2))\n",
        "print(product_list)\n"
      ]
    },
    {
      "cell_type": "code",
      "execution_count": 43,
      "metadata": {
        "colab": {
          "base_uri": "https://localhost:8080/"
        },
        "id": "gkZPGHPdGDw8",
        "outputId": "af4f44c3-097a-449e-db17-54c3ce925c19"
      },
      "outputs": [
        {
          "output_type": "stream",
          "name": "stdout",
          "text": [
            "[12 30  7 35]\n",
            "<class 'numpy.ndarray'>\n"
          ]
        }
      ],
      "source": [
        "# The numpy array way to do it: simply multiply the two arrays\n",
        "array_1 = np.array(list_1)\n",
        "array_2 = np.array(list_2)\n",
        "\n",
        "array_3 = array_1*array_2\n",
        "print(array_3)\n",
        "print(type(array_3))"
      ]
    },
    {
      "cell_type": "code",
      "execution_count": 44,
      "metadata": {
        "colab": {
          "base_uri": "https://localhost:8080/"
        },
        "id": "F1GPcIVmGDw9",
        "outputId": "2528eb2e-aa1d-4c9f-b1c7-70d9d235e09f"
      },
      "outputs": [
        {
          "output_type": "stream",
          "name": "stdout",
          "text": [
            "[9, 36, 49, 25]\n",
            "[ 9 36 49 25]\n"
          ]
        }
      ],
      "source": [
        "# Square a list\n",
        "list_squared = [i**2 for i in list_1]\n",
        "\n",
        "# Square a numpy array\n",
        "array_squared = array_1**2\n",
        "\n",
        "print(list_squared)\n",
        "print(array_squared)"
      ]
    },
    {
      "cell_type": "code",
      "execution_count": 45,
      "metadata": {
        "colab": {
          "base_uri": "https://localhost:8080/"
        },
        "id": "sldlI9TBGDw-",
        "outputId": "17ab4cf3-3977-4a6d-eea7-19cce9ea4159"
      },
      "outputs": [
        {
          "output_type": "stream",
          "name": "stdout",
          "text": [
            "[2 5 6 7]\n",
            "[4 5 8 9]\n"
          ]
        }
      ],
      "source": [
        "# Convert lists or tuples to arrays using np.array()\n",
        "# Note that np.array(2, 5, 6, 7) will throw an error - you need to pass a list or a tuple\n",
        "array_from_list = np.array([2, 5, 6, 7]) \n",
        "array_from_tuple = np.array((4, 5, 8, 9))\n",
        "\n",
        "print(array_from_list)\n",
        "print(array_from_tuple)"
      ]
    },
    {
      "cell_type": "markdown",
      "metadata": {
        "id": "FU0ShUc9GDw-"
      },
      "source": [
        "The other common way is to initialise arrays. You do this when you know the size of the array beforehand.\n",
        "\n",
        "The following ways are commonly used:\n",
        "* ```np.ones()```: Create array of 1s\n",
        "* ```np.zeros()```: Create array of 0s\n",
        "* ```np.random.random()```: Create array of random numbers\n",
        "* ```np.arange()```: Create array with increments of a fixed step size\n",
        "* ```np.linspace()```: Create array of fixed length"
      ]
    },
    {
      "cell_type": "code",
      "execution_count": 46,
      "metadata": {
        "colab": {
          "base_uri": "https://localhost:8080/"
        },
        "id": "ToCgYTOUGDw_",
        "outputId": "89e4069e-da84-4ddb-ec58-ac36d161b331"
      },
      "outputs": [
        {
          "output_type": "execute_result",
          "data": {
            "text/plain": [
              "array([[1., 1., 1.],\n",
              "       [1., 1., 1.],\n",
              "       [1., 1., 1.],\n",
              "       [1., 1., 1.],\n",
              "       [1., 1., 1.]])"
            ]
          },
          "metadata": {},
          "execution_count": 46
        }
      ],
      "source": [
        "# Creating a 5 x 3 array of ones\n",
        "np.ones((5, 3))"
      ]
    },
    {
      "cell_type": "code",
      "execution_count": 47,
      "metadata": {
        "colab": {
          "base_uri": "https://localhost:8080/"
        },
        "id": "AkUMOQxbGDw_",
        "outputId": "66eb8b2a-8ffe-43f4-a89e-7a8e35ea5d47"
      },
      "outputs": [
        {
          "output_type": "execute_result",
          "data": {
            "text/plain": [
              "array([[1, 1, 1],\n",
              "       [1, 1, 1],\n",
              "       [1, 1, 1],\n",
              "       [1, 1, 1],\n",
              "       [1, 1, 1]])"
            ]
          },
          "metadata": {},
          "execution_count": 47
        }
      ],
      "source": [
        "# Notice that, by default, numpy creates data type = float64\n",
        "# Can provide dtype explicitly using dtype\n",
        "np.ones((5, 3), dtype = int)"
      ]
    },
    {
      "cell_type": "code",
      "execution_count": 20,
      "metadata": {
        "colab": {
          "base_uri": "https://localhost:8080/"
        },
        "id": "M_KQxh9_GDw_",
        "outputId": "2ffab8e6-5cba-4f62-d3aa-9af0f1774763"
      },
      "outputs": [
        {
          "output_type": "execute_result",
          "data": {
            "text/plain": [
              "array([[0.00729031, 0.99656589, 0.47880624, 0.13199395],\n",
              "       [0.82003537, 0.90885752, 0.7089426 , 0.23110585],\n",
              "       [0.18241055, 0.69111788, 0.20962197, 0.97756389]])"
            ]
          },
          "metadata": {},
          "execution_count": 20
        }
      ],
      "source": [
        "# Array of random numbers\n",
        "np.random.random([3, 4])"
      ]
    },
    {
      "cell_type": "code",
      "execution_count": 49,
      "metadata": {
        "colab": {
          "base_uri": "https://localhost:8080/"
        },
        "id": "9SXviTsTGDxA",
        "outputId": "51346760-aba7-4462-e710-5cb173aceb24"
      },
      "outputs": [
        {
          "output_type": "stream",
          "name": "stdout",
          "text": [
            "[10 15 20 25 30 35 40 45 50 55 60 65 70 75 80 85 90 95]\n"
          ]
        }
      ],
      "source": [
        "# np.arange()\n",
        "# np.arange() is the numpy equivalent of range()\n",
        "# Notice that 10 is included, 100 is not, as in standard python lists\n",
        "\n",
        "# From 10 to 100 with a step of 5\n",
        "numbers = np.arange(10, 100, 5)\n",
        "print(numbers)"
      ]
    },
    {
      "cell_type": "code",
      "execution_count": 50,
      "metadata": {
        "colab": {
          "base_uri": "https://localhost:8080/"
        },
        "id": "Hl613r7kGDxA",
        "outputId": "b4b22643-fb10-44a2-8bc6-92b523a75a1b"
      },
      "outputs": [
        {
          "output_type": "execute_result",
          "data": {
            "text/plain": [
              "array([15.   , 15.125, 15.25 , 15.375, 15.5  , 15.625, 15.75 , 15.875,\n",
              "       16.   , 16.125, 16.25 , 16.375, 16.5  , 16.625, 16.75 , 16.875,\n",
              "       17.   , 17.125, 17.25 , 17.375, 17.5  , 17.625, 17.75 , 17.875,\n",
              "       18.   ])"
            ]
          },
          "metadata": {},
          "execution_count": 50
        }
      ],
      "source": [
        "# np.linspace()\n",
        "# Sometimes, you know the length of the array, not the step size\n",
        "\n",
        "# Array of length 25 between 15 and 18\n",
        "np.linspace(15, 18, 25)"
      ]
    },
    {
      "cell_type": "code",
      "execution_count": 51,
      "metadata": {
        "colab": {
          "base_uri": "https://localhost:8080/"
        },
        "id": "7prhmdw1GDxC",
        "outputId": "c6d25aaf-2230-464b-c213-c0388d96a19e"
      },
      "outputs": [
        {
          "output_type": "stream",
          "name": "stdout",
          "text": [
            "[0.24118867 0.85758521 0.33526611 0.80142264 0.50663444 0.98176748\n",
            " 0.70531794 0.32297445 0.08361553 0.54448561 0.28193504 0.1979582\n",
            " 0.36894311 0.81285015 0.58954444 0.90541227 0.24284679 0.04924318\n",
            " 0.3505859  0.36667349 0.34783551 0.03103011 0.91060181 0.10803275\n",
            " 0.85239589 0.8206837  0.70610596 0.21448652 0.72333734 0.36988274\n",
            " 0.43296384 0.74220243 0.21283114 0.35566494 0.06628612 0.64031103\n",
            " 0.4391492  0.04491217 0.85805334 0.15761894 0.85662797 0.81696804\n",
            " 0.7702093  0.1575863  0.0078253  0.25843857 0.60787937 0.39040996\n",
            " 0.75497144 0.67789025 0.70411355 0.11463013 0.53595712 0.4063381\n",
            " 0.54041187 0.28050572 0.82054742 0.17202391 0.82786489 0.45515385\n",
            " 0.58614434 0.08065367 0.7644045  0.73212997 0.38036481 0.67465358\n",
            " 0.84982059 0.44814444 0.05794127 0.47824279 0.13916252 0.50427757\n",
            " 0.5256412  0.52746332 0.24943443 0.57365945 0.78820917 0.27975488\n",
            " 0.03069699 0.76510925 0.84451345 0.89797542 0.08080048 0.52806726\n",
            " 0.00154582 0.39063049 0.2758974  0.66319129 0.25169836 0.6378776\n",
            " 0.6653047  0.93646285 0.17368479 0.02255652 0.13926366 0.32430005\n",
            " 0.90054237 0.428759   0.54865127 0.70168528 0.49436184 0.22652041\n",
            " 0.3878515  0.34173914 0.66621711 0.38634962 0.32364999 0.61891141\n",
            " 0.37400454 0.35878856 0.84218034 0.12145029 0.44544939 0.42364066\n",
            " 0.99373487 0.75309336 0.03280329 0.95888129 0.16146553 0.0098095\n",
            " 0.61939793 0.71845077 0.62253304 0.99340457 0.22945685 0.43303792\n",
            " 0.60608555 0.37883569 0.19145752 0.26573327 0.3159026  0.43235006\n",
            " 0.60389157 0.30476563 0.96523933 0.90543519 0.56976115 0.25935311\n",
            " 0.41695944 0.45202619 0.58470247 0.40066233 0.65436415 0.9127595\n",
            " 0.4229691  0.84923412 0.67297373 0.79240525 0.26654754 0.76196678\n",
            " 0.89064822 0.31213473 0.63431548 0.42893953 0.39767469 0.2561041\n",
            " 0.38381151 0.50540383 0.37065152 0.67946867 0.85018632 0.75913551\n",
            " 0.77289314 0.63731956 0.65660239 0.23151235 0.78036591 0.47179726\n",
            " 0.78692131 0.15352104 0.48975799 0.63934268 0.48376775 0.1468452\n",
            " 0.27357733 0.81805474 0.8214061  0.65702006 0.00444891 0.46015299\n",
            " 0.02437001 0.90928505 0.52754696 0.11744693 0.74656024 0.16618517\n",
            " 0.87461494 0.38381732 0.06276067 0.92352573 0.81143364 0.46818691\n",
            " 0.94116163 0.50580207 0.09434698 0.20169524 0.01726495 0.85685063\n",
            " 0.47499237 0.36130864 0.38372697 0.13212079 0.05813512 0.94097475\n",
            " 0.2471232  0.01502435 0.97145818 0.58750866 0.15298825 0.93404892\n",
            " 0.10896037 0.99642221 0.50558659 0.44293604 0.29258542 0.20731501\n",
            " 0.43842787 0.31789558 0.33375059 0.82049093 0.97049338 0.61151904\n",
            " 0.69916139 0.45299907 0.76358936 0.15986757 0.07550865 0.95495009\n",
            " 0.08939873 0.78288265 0.30737407 0.21798211 0.19448345 0.99242442\n",
            " 0.6257225  0.42986314 0.91185365 0.15863924 0.74769159 0.19379191\n",
            " 0.95740333 0.55153758 0.67522097 0.35708001 0.58718068 0.25269298\n",
            " 0.57798724 0.00513735 0.71916056 0.66631395 0.50079447 0.23022443\n",
            " 0.61252778 0.46261564 0.16733164 0.404899   0.9284646  0.04120535\n",
            " 0.47343017 0.06645447 0.24760395 0.5557443  0.62937312 0.04693978\n",
            " 0.91311588 0.70885025 0.63906449 0.65060416 0.91955826 0.70934302\n",
            " 0.92551892 0.14252686 0.87142982 0.80585764 0.63883986 0.51684298\n",
            " 0.92103699 0.67122267 0.39808625 0.42369773 0.98891393 0.07168528\n",
            " 0.82111093 0.41202557 0.43987658 0.01711615 0.81567671 0.41904827\n",
            " 0.46167588 0.04097759 0.54012116 0.11607994 0.79747837 0.28900021\n",
            " 0.08484992 0.44206814 0.23603249 0.59021734 0.28215059 0.08528157]\n"
          ]
        }
      ],
      "source": [
        "# Initialising a random 1000 x 300 array\n",
        "rand_array = np.random.random((1000, 300))\n",
        "\n",
        "# Print the second row\n",
        "print(rand_array[1, ])"
      ]
    },
    {
      "cell_type": "code",
      "execution_count": 52,
      "metadata": {
        "colab": {
          "base_uri": "https://localhost:8080/"
        },
        "id": "rgs8NoH9GDxC",
        "outputId": "020001a6-7d82-43d2-96f9-8d9bfdee2820"
      },
      "outputs": [
        {
          "output_type": "stream",
          "name": "stdout",
          "text": [
            "Shape: (1000, 300)\n",
            "dtype: float64\n",
            "Dimensions: 2\n",
            "Item size: 8\n"
          ]
        }
      ],
      "source": [
        "# Inspecting shape, dtype, ndim and itemsize\n",
        "print(\"Shape: {}\".format(rand_array.shape))\n",
        "print(\"dtype: {}\".format(rand_array.dtype))\n",
        "print(\"Dimensions: {}\".format(rand_array.ndim))\n",
        "print(\"Item size: {}\".format(rand_array.itemsize))"
      ]
    },
    {
      "cell_type": "code",
      "execution_count": 53,
      "metadata": {
        "colab": {
          "base_uri": "https://localhost:8080/"
        },
        "id": "JwLwT92KGDxC",
        "outputId": "7cb8320d-0097-4ba5-85f9-824011de0fa7"
      },
      "outputs": [
        {
          "output_type": "stream",
          "name": "stdout",
          "text": [
            "[[[ 0  1  2  3]\n",
            "  [ 4  5  6  7]\n",
            "  [ 8  9 10 11]]\n",
            "\n",
            " [[12 13 14 15]\n",
            "  [16 17 18 19]\n",
            "  [20 21 22 23]]]\n"
          ]
        }
      ],
      "source": [
        "# Creating a 3-D array\n",
        "# reshape() simply reshapes a 1-D array \n",
        "array_3d = np.arange(24).reshape(2, 3, 4)\n",
        "print(array_3d)"
      ]
    },
    {
      "cell_type": "markdown",
      "metadata": {
        "id": "f8SdijVyGDxD"
      },
      "source": [
        "### Subset, Slice, Index and Iterate through Arrays\n",
        "\n",
        "For **one-dimensional arrays**, indexing, slicing etc. is **similar to python lists** - indexing starts at 0."
      ]
    },
    {
      "cell_type": "code",
      "execution_count": 54,
      "metadata": {
        "colab": {
          "base_uri": "https://localhost:8080/"
        },
        "id": "dt2SuhKYGDxD",
        "outputId": "f6f9b744-4eaf-4de5-cbd0-4ca1ffb750ac"
      },
      "outputs": [
        {
          "output_type": "stream",
          "name": "stdout",
          "text": [
            "[0 1 2 3 4 5 6 7 8 9]\n"
          ]
        }
      ],
      "source": [
        "# Indexing and slicing one dimensional arrays\n",
        "array_1d = np.arange(10)\n",
        "print(array_1d)"
      ]
    },
    {
      "cell_type": "code",
      "execution_count": 55,
      "metadata": {
        "colab": {
          "base_uri": "https://localhost:8080/"
        },
        "id": "56QjTUJJGDxD",
        "outputId": "a8f6d058-210e-434e-c5c7-d88acf1b8415"
      },
      "outputs": [
        {
          "output_type": "stream",
          "name": "stdout",
          "text": [
            "2\n",
            "[2 5 6]\n",
            "[2 3 4 5 6 7 8 9]\n",
            "[0 1 2]\n",
            "[2 3 4 5 6]\n",
            "[0 2 4 6 8]\n"
          ]
        }
      ],
      "source": [
        "# Third element\n",
        "print(array_1d[2])\n",
        "\n",
        "# Specific elements\n",
        "# Notice that array[2, 5, 6] will throw an error, you need to provide the indices as a list\n",
        "print(array_1d[[2, 5, 6]])\n",
        "\n",
        "# Slice third element onwards\n",
        "print(array_1d[2:])\n",
        "\n",
        "# Slice first three elements\n",
        "print(array_1d[:3])\n",
        "\n",
        "# Slice third to seventh elements\n",
        "print(array_1d[2:7])\n",
        "\n",
        "# Subset starting 0 at increment of 2 \n",
        "print(array_1d[0::2])"
      ]
    },
    {
      "cell_type": "code",
      "execution_count": 56,
      "metadata": {
        "colab": {
          "base_uri": "https://localhost:8080/"
        },
        "id": "KrbgLcyRGDxD",
        "outputId": "e5f4ccc4-3d86-4e02-a24c-1b47fa637196"
      },
      "outputs": [
        {
          "output_type": "stream",
          "name": "stdout",
          "text": [
            "0\n",
            "1\n",
            "4\n",
            "9\n",
            "16\n",
            "25\n",
            "36\n",
            "49\n",
            "64\n",
            "81\n"
          ]
        }
      ],
      "source": [
        "# Iterations are also similar to lists\n",
        "for i in array_1d:\n",
        "    print(i**2)"
      ]
    },
    {
      "cell_type": "code",
      "execution_count": 57,
      "metadata": {
        "colab": {
          "base_uri": "https://localhost:8080/"
        },
        "id": "DctlXSsIGDxD",
        "outputId": "5f8e8262-67a1-46bb-9e47-3d99eac39c0b"
      },
      "outputs": [
        {
          "output_type": "stream",
          "name": "stdout",
          "text": [
            "[[ 2  5  7  5]\n",
            " [ 4  6  8 10]\n",
            " [10 12 15 19]]\n"
          ]
        }
      ],
      "source": [
        "# Creating a 2-D array\n",
        "array_2d = np.array([[2, 5, 7, 5], [4, 6, 8, 10], [10, 12, 15, 19]])\n",
        "print(array_2d)"
      ]
    },
    {
      "cell_type": "code",
      "execution_count": 58,
      "metadata": {
        "colab": {
          "base_uri": "https://localhost:8080/"
        },
        "id": "CNayorXWGDxE",
        "outputId": "f39ce2e3-ebe3-480f-ea92-6e3a4246faa0"
      },
      "outputs": [
        {
          "output_type": "stream",
          "name": "stdout",
          "text": [
            "12\n"
          ]
        }
      ],
      "source": [
        "# Third row second column\n",
        "print(array_2d[2, 1])"
      ]
    },
    {
      "cell_type": "code",
      "execution_count": 59,
      "metadata": {
        "colab": {
          "base_uri": "https://localhost:8080/"
        },
        "id": "q2xBTRwfGDxE",
        "outputId": "41b89351-dae3-45a4-8d21-470568e6dafc"
      },
      "outputs": [
        {
          "output_type": "stream",
          "name": "stdout",
          "text": [
            "[ 4  6  8 10]\n",
            "<class 'numpy.ndarray'>\n"
          ]
        }
      ],
      "source": [
        "# Slicing the second row, and all columns\n",
        "# Notice that the resultant is itself a 1-D array\n",
        "print(array_2d[1, :])\n",
        "print(type(array_2d[1, :]))"
      ]
    },
    {
      "cell_type": "code",
      "execution_count": 60,
      "metadata": {
        "colab": {
          "base_uri": "https://localhost:8080/"
        },
        "id": "dlkzzXxYGDxE",
        "outputId": "fb73a38d-fec9-4bee-f8f1-bfc3b1d919f4"
      },
      "outputs": [
        {
          "output_type": "stream",
          "name": "stdout",
          "text": [
            "[ 7  8 15]\n"
          ]
        }
      ],
      "source": [
        "# Slicing all rows and the third column\n",
        "print(array_2d[:, 2])"
      ]
    },
    {
      "cell_type": "code",
      "execution_count": 61,
      "metadata": {
        "colab": {
          "base_uri": "https://localhost:8080/"
        },
        "id": "TNtr23emGDxE",
        "outputId": "91bceb49-4849-42fd-9926-23429ee7ab9f"
      },
      "outputs": [
        {
          "output_type": "stream",
          "name": "stdout",
          "text": [
            "[[ 2  5  7]\n",
            " [ 4  6  8]\n",
            " [10 12 15]]\n"
          ]
        }
      ],
      "source": [
        "# Slicing all rows and the first three columns\n",
        "print(array_2d[:, :3])"
      ]
    },
    {
      "cell_type": "markdown",
      "metadata": {
        "id": "yC-ibqBGGDxE"
      },
      "source": [
        "**Iterating on 2-D arrays** is done with respect to the first axis (which is row, the second axis is column). "
      ]
    },
    {
      "cell_type": "code",
      "execution_count": 34,
      "metadata": {
        "colab": {
          "base_uri": "https://localhost:8080/"
        },
        "id": "0rjjJARcGDxE",
        "outputId": "eca7c988-7007-46ad-f131-0224cc091aa3"
      },
      "outputs": [
        {
          "output_type": "stream",
          "name": "stdout",
          "text": [
            "[2 5 7 5]\n",
            "[ 4  6  8 10]\n",
            "[10 12 15 19]\n"
          ]
        }
      ],
      "source": [
        "# Iterating over 2-D arrays\n",
        "for row in array_2d:\n",
        "    print(row)"
      ]
    },
    {
      "cell_type": "code",
      "execution_count": 62,
      "metadata": {
        "colab": {
          "base_uri": "https://localhost:8080/"
        },
        "id": "Pq9Hit1OGDxE",
        "outputId": "ce318751-74ed-4b94-91e7-96c6f62b714b"
      },
      "outputs": [
        {
          "output_type": "stream",
          "name": "stdout",
          "text": [
            "[[[ 0  1  2  3]\n",
            "  [ 4  5  6  7]\n",
            "  [ 8  9 10 11]]\n",
            "\n",
            " [[12 13 14 15]\n",
            "  [16 17 18 19]\n",
            "  [20 21 22 23]]]\n"
          ]
        }
      ],
      "source": [
        "# Iterating over 3-D arrays: Done with respect to the first axis\n",
        "array_3d = np.arange(24).reshape(2, 3, 4)\n",
        "print(array_3d)"
      ]
    },
    {
      "cell_type": "code",
      "execution_count": 63,
      "metadata": {
        "colab": {
          "base_uri": "https://localhost:8080/"
        },
        "id": "XppM1dn2GDxF",
        "outputId": "e5291853-3c8a-4ae3-b9a2-58a0c7600d96"
      },
      "outputs": [
        {
          "output_type": "stream",
          "name": "stdout",
          "text": [
            "[[ 0  1  2  3]\n",
            " [ 4  5  6  7]\n",
            " [ 8  9 10 11]]\n",
            "[[12 13 14 15]\n",
            " [16 17 18 19]\n",
            " [20 21 22 23]]\n"
          ]
        }
      ],
      "source": [
        "# Prints the two blocks\n",
        "for row in array_3d:\n",
        "    print(row)"
      ]
    },
    {
      "cell_type": "markdown",
      "metadata": {
        "id": "cQyMo8vnGDxF"
      },
      "source": [
        "### Compare Computation Times in NumPy and Standard Python Lists\n",
        "\n"
      ]
    },
    {
      "cell_type": "code",
      "execution_count": 64,
      "metadata": {
        "colab": {
          "base_uri": "https://localhost:8080/"
        },
        "id": "7gUaXgChGDxF",
        "outputId": "511d6cfe-c4fa-49d4-836c-d1a71081f28e"
      },
      "outputs": [
        {
          "output_type": "stream",
          "name": "stdout",
          "text": [
            "0.13357067108154297\n",
            "0.0026755332946777344\n",
            "The ratio of time taken is 49.923008376403494\n"
          ]
        }
      ],
      "source": [
        "## Comparing time taken for computation\n",
        "list_1 = [i for i in range(1000000)]\n",
        "list_2 = [j**2 for j in range(1000000)]\n",
        "\n",
        "# list multiplication\n",
        "import time\n",
        "\n",
        "# store start time, time after computation, and take the difference\n",
        "t0 = time.time()\n",
        "product_list = list(map(lambda x, y: x*y, list_1, list_2))\n",
        "t1 = time.time()\n",
        "list_time = t1 - t0 \n",
        "print(t1-t0)\n",
        "\n",
        "\n",
        "# numpy array \n",
        "array_1 = np.array(list_1)\n",
        "array_2 = np.array(list_2)\n",
        "\n",
        "t0 = time.time()\n",
        "array_3 = array_1*array_2\n",
        "t1 = time.time()\n",
        "numpy_time = t1 - t0\n",
        "\n",
        "print(t1-t0)\n",
        "\n",
        "print(\"The ratio of time taken is {}\".format(list_time/numpy_time))"
      ]
    },
    {
      "cell_type": "code",
      "source": [
        ""
      ],
      "metadata": {
        "id": "JL7vemz-dAnO"
      },
      "execution_count": null,
      "outputs": []
    }
  ],
  "metadata": {
    "kernelspec": {
      "display_name": "Python 3",
      "language": "python",
      "name": "python3"
    },
    "language_info": {
      "codemirror_mode": {
        "name": "ipython",
        "version": 3
      },
      "file_extension": ".py",
      "mimetype": "text/x-python",
      "name": "python",
      "nbconvert_exporter": "python",
      "pygments_lexer": "ipython3",
      "version": "3.6.5"
    },
    "colab": {
      "name": "NumPy_Python.ipynb",
      "provenance": []
    }
  },
  "nbformat": 4,
  "nbformat_minor": 0
}